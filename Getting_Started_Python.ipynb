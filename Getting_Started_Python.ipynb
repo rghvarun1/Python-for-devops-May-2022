{
  "nbformat": 4,
  "nbformat_minor": 0,
  "metadata": {
    "colab": {
      "name": "Getting_Started_Python.ipynb",
      "provenance": [],
      "authorship_tag": "ABX9TyPIKdTUJTQpZ2f4z0ZaqNZx",
      "include_colab_link": true
    },
    "kernelspec": {
      "name": "python3",
      "display_name": "Python 3"
    },
    "language_info": {
      "name": "python"
    }
  },
  "cells": [
    {
      "cell_type": "markdown",
      "metadata": {
        "id": "view-in-github",
        "colab_type": "text"
      },
      "source": [
        "<a href=\"https://colab.research.google.com/github/rghvarun1/Python-for-devops-May-2022/blob/main/Getting_Started_Python.ipynb\" target=\"_parent\"><img src=\"https://colab.research.google.com/assets/colab-badge.svg\" alt=\"Open In Colab\"/></a>"
      ]
    },
    {
      "cell_type": "code",
      "execution_count": null,
      "metadata": {
        "id": "9OEa5_NGJvfW"
      },
      "outputs": [],
      "source": [
        ""
      ]
    },
    {
      "cell_type": "markdown",
      "source": [
        "## Introduction to Python\n"
      ],
      "metadata": {
        "id": "Z_gnhQn4KXkn"
      }
    },
    {
      "cell_type": "markdown",
      "source": [
        "### Statements in python\n",
        "print('Hello World')"
      ],
      "metadata": {
        "id": "edao1FoRKgoY"
      }
    },
    {
      "cell_type": "code",
      "source": [
        "name = 'Arun'\n",
        "print(f'My name is {name}')"
      ],
      "metadata": {
        "colab": {
          "base_uri": "https://localhost:8080/"
        },
        "id": "lmciBaI3Kv5O",
        "outputId": "ece3f0b1-7908-4d26-f046-3dad7f910241"
      },
      "execution_count": 4,
      "outputs": [
        {
          "output_type": "stream",
          "name": "stdout",
          "text": [
            "My name is Arun\n"
          ]
        }
      ]
    },
    {
      "cell_type": "code",
      "source": [
        "fruits = ['apple','mango','banana']\n",
        "for fruit in fruits:\n",
        "    print(f\"my favorite fruit is {fruit}\")"
      ],
      "metadata": {
        "colab": {
          "base_uri": "https://localhost:8080/"
        },
        "id": "Vt8Fh2xBLKCL",
        "outputId": "b0608a0d-4ecd-4e89-8197-63ba1d3906e7"
      },
      "execution_count": 5,
      "outputs": [
        {
          "output_type": "stream",
          "name": "stdout",
          "text": [
            "my favorite fruit is apple\n",
            "my favorite fruit is mango\n",
            "my favorite fruit is banana\n"
          ]
        }
      ]
    },
    {
      "cell_type": "code",
      "source": [
        "meal = {\"breakfast\":\"black coffee\", \"lunch\":\"salad\", \"dinner\": \"rice and beans\"}\n",
        "meal.keys()"
      ],
      "metadata": {
        "colab": {
          "base_uri": "https://localhost:8080/"
        },
        "id": "CBUEfspdLzp0",
        "outputId": "8ae18159-6c0b-46f6-959e-83d297965bd1"
      },
      "execution_count": 6,
      "outputs": [
        {
          "output_type": "execute_result",
          "data": {
            "text/plain": [
              "dict_keys(['breakfast', 'lunch', 'dinner'])"
            ]
          },
          "metadata": {},
          "execution_count": 6
        }
      ]
    },
    {
      "cell_type": "code",
      "source": [
        "meal.values()"
      ],
      "metadata": {
        "colab": {
          "base_uri": "https://localhost:8080/"
        },
        "id": "H7dEbBKzMCtK",
        "outputId": "2218331b-e84b-4b8a-bf29-2ce3daf793ac"
      },
      "execution_count": 7,
      "outputs": [
        {
          "output_type": "execute_result",
          "data": {
            "text/plain": [
              "dict_values(['black coffee', 'salad', 'rice and beans'])"
            ]
          },
          "metadata": {},
          "execution_count": 7
        }
      ]
    },
    {
      "cell_type": "code",
      "source": [
        "for k,v in meal.items():\n",
        "    print(f\"This meal {k} is when I like to consume {v}\")"
      ],
      "metadata": {
        "colab": {
          "base_uri": "https://localhost:8080/"
        },
        "id": "YPfXeKGWMGg_",
        "outputId": "317f3eaf-6ec6-426c-d92a-5477424aa7bf"
      },
      "execution_count": 8,
      "outputs": [
        {
          "output_type": "stream",
          "name": "stdout",
          "text": [
            "This meal breakfast is when I like to consume black coffee\n",
            "This meal lunch is when I like to consume salad\n",
            "This meal dinner is when I like to consume rice and beans\n"
          ]
        }
      ]
    }
  ]
}